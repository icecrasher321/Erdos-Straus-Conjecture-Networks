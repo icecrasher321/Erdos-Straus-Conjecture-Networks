{
 "cells": [
  {
   "cell_type": "code",
   "execution_count": null,
   "metadata": {},
   "outputs": [],
   "source": [
    "# Based on https://github.com/shaneallgeier/egyptian-fraction-generator\n",
    "# Is referred to as S(n) in the paper, with the EXTRAS the global variable representing the array containing the output\n",
    "# Does not capture solutions to n = 2, 3 (as both are trivial exceptions)\n",
    "import sys\n",
    "from datetime import datetime\n",
    "from fractions import Fraction\n",
    "\n",
    "\n",
    "NUMBER_OF_TERMS = 3\n",
    "\n",
    "EXTRAS = []\n",
    "\n",
    "def egyptian_fractions(num, k=2, b=0, current_terms=None):\n",
    "    if not current_terms:\n",
    "        current_terms = [Fraction(1, 1)] * NUMBER_OF_TERMS\n",
    "\n",
    "    if num.numerator == 0:\n",
    "        # The base case\n",
    "        if b == NUMBER_OF_TERMS:\n",
    "            # If we're in here, it means we made it to a solution\n",
    "            return True\n",
    "        else:\n",
    "            # No solution was found, give up and move on\n",
    "            return False\n",
    "\n",
    "    j = (num.denominator + num.numerator - 1) // num.numerator\n",
    "    if j >= k:\n",
    "        k = j\n",
    "    for i in range(k, j*(NUMBER_OF_TERMS-b)+1):\n",
    "        current_terms[b] = Fraction(1, i)\n",
    "        if egyptian_fractions(num - current_terms[b], i+1, b+1, current_terms):\n",
    "            #print(' '.join(map(str, current_terms)))\n",
    "            x = current_terms\n",
    "            for z in x:\n",
    "                 EXTRAS.append(z)"
   ]
  },
  {
   "cell_type": "code",
   "execution_count": null,
   "metadata": {},
   "outputs": [],
   "source": [
    "import networkx as nx\n",
    "import matplotlib.pyplot as plt\n",
    "#%matplotlib inline"
   ]
  },
  {
   "cell_type": "code",
   "execution_count": null,
   "metadata": {},
   "outputs": [],
   "source": [
    "# To generate the Erdos-Straus Graph (in this case, upto n = 1000 will be solved)\n",
    "# Can change to 4 to 5 for Sierpiński's version\n",
    "\n",
    "EXTRAS = []\n",
    "ESG = nx.DiGraph()\n",
    "for n in range (4, 1000):\n",
    "    egyptian_fractions(Fraction(4, n))\n",
    "    for z in EXTRAS:\n",
    "        ESG.add_edge(n, z.denominator)\n",
    "    EXTRAS = []\n",
    "\n",
    "nx.draw(ESG, node_size=5)"
   ]
  },
  {
   "cell_type": "code",
   "execution_count": null,
   "metadata": {},
   "outputs": [],
   "source": [
    "# To check which nodes have self-loops\n",
    "sorted(list(ESG.nodes_with_selfloops()))"
   ]
  },
  {
   "cell_type": "code",
   "execution_count": null,
   "metadata": {},
   "outputs": [],
   "source": [
    "# Based on https://stackoverflow.com/questions/49908014/how-can-i-check-if-a-network-is-scale-free\n",
    "# To plot in-degree distribution\n",
    "import math\n",
    "import numpy as np\n",
    "k = []\n",
    "Pk = []\n",
    "graph = Erev\n",
    "for node in list(graph.nodes()):\n",
    "    degree = graph.in_degree(nbunch=node)\n",
    "    try:\n",
    "        pos = k.index(degree)\n",
    "    except ValueError as e:\n",
    "        k.append(degree)\n",
    "        Pk.append(1)\n",
    "    else:\n",
    "        Pk[pos] += 1\n",
    "\n",
    "# get a double log representation\n",
    "logk = []\n",
    "logPk = []\n",
    "for i in range(len(k)):\n",
    "    logk.append(math.log10(k[i]))\n",
    "    logPk.append(math.log10(Pk[i]))\n",
    "\n",
    "order = np.argsort(logk)\n",
    "logk_array = np.array(logk)[order]\n",
    "logPk_array = np.array(logPk)[order]\n",
    "plt.plot(logk_array, logPk_array, \".\")\n",
    "m, c = np.polyfit(logk_array, logPk_array, 1)\n",
    "plt.plot(logk_array, m*logk_array + c, \"-\")\n",
    "print(m)"
   ]
  },
  {
   "cell_type": "code",
   "execution_count": null,
   "metadata": {},
   "outputs": [],
   "source": [
    "#To generate ESG, and store all important metrics (changing with growth)\n",
    "\n",
    "EXTRAS = []\n",
    "APLs = []\n",
    "ns = []\n",
    "dens = []\n",
    "cls = []\n",
    "ESG = nx.DiGraph()\n",
    "for n in range (4, 1000):\n",
    "    print(n)\n",
    "    egyptian_fractions(Fraction(4, n))\n",
    "    for z in EXTRAS:\n",
    "        ESG.add_edge(n, z.denominator)\n",
    "    EXTRAS = []\n",
    "    APLs.append(nx.average_shortest_path_length(ESG))\n",
    "    ns.append(ESG.number_of_nodes())\n",
    "    dens.append(n)\n",
    "    cls.append(nx.average_clustering(ESG))\n",
    "\n",
    "#nx.draw(ESG, node_size=5)"
   ]
  },
  {
   "cell_type": "code",
   "execution_count": null,
   "metadata": {},
   "outputs": [],
   "source": [
    "# Manually adding the edges for the n = 3 case as our function does not catch those as mentioned\n",
    "ESG.add_edge(3, 1)\n",
    "ESG.add_edge(3, 4)\n",
    "ESG.add_edge(3, 12)"
   ]
  },
  {
   "cell_type": "code",
   "execution_count": null,
   "metadata": {},
   "outputs": [],
   "source": [
    "import numpy as np\n",
    "\n",
    "plt.xlabel(\"Number of Nodes\")\n",
    "plt.ylabel(\"Average Path Length (Directed)\")\n",
    "\n",
    "plt.plot(ns, APLs)"
   ]
  },
  {
   "cell_type": "code",
   "execution_count": null,
   "metadata": {},
   "outputs": [],
   "source": [
    "plt.xlabel(\"Denominator\")\n",
    "plt.ylabel(\"Number of Nodes\")\n",
    "\n",
    "plt.plot(dens, ns)"
   ]
  },
  {
   "cell_type": "code",
   "execution_count": null,
   "metadata": {},
   "outputs": [],
   "source": [
    "# Was not included in the paper (only largest SCC one was)\n",
    "plt.xlabel(\"Number of Nodes\")\n",
    "plt.ylabel(\"Average Clustering Coefficient (Directed)\")\n",
    "\n",
    "plt.plot(ns, cls)"
   ]
  },
  {
   "cell_type": "code",
   "execution_count": null,
   "metadata": {},
   "outputs": [],
   "source": [
    "# In_degree Centrality Measures (sorted)\n",
    "\n",
    "import sympy \n",
    "from operator import itemgetter\n",
    "deg_centrality = nx.in_degree_centrality(ESGm)\n",
    "\n",
    "sorted_by_bet = sorted(deg_centrality.items(), key=itemgetter(1), reverse=True)\n",
    "\n",
    "for x in sorted_by_bet[:15]:\n",
    "        print(x)"
   ]
  },
  {
   "cell_type": "code",
   "execution_count": null,
   "metadata": {},
   "outputs": [],
   "source": [
    "in_degree_sequence = [d for n, d in ESG.in_degree()]  # in degree sequence\n",
    "out_degree_sequence = [d for n, d in ESG.out_degree()]  # out degree sequence\n",
    "\n",
    "# To create the degree-sequence based random graph (directed configuration model)\n",
    "\n",
    "ESGRand = nx.directed_configuration_model(in_degree_sequence, out_degree_sequence, create_using=nx.DiGraph())"
   ]
  },
  {
   "cell_type": "code",
   "execution_count": null,
   "metadata": {},
   "outputs": [],
   "source": [
    "# To print out nodes in the largest SCC\n",
    "largest = max(nx.strongly_connected_components(ESGm), key=len)\n",
    "\n",
    "print(largest)\n",
    "\n",
    "#To print out source nodes not in the largest SCC (if any)\n",
    "\n",
    "strongConn = set(list(largest))\n",
    "\n",
    "for i in range(4, 1000):\n",
    "    if i not in strongConn:\n",
    "        print(i)"
   ]
  },
  {
   "cell_type": "code",
   "execution_count": null,
   "metadata": {},
   "outputs": [],
   "source": [
    "# Not used in the paper - but an ESG network with only prime sources \n",
    "\n",
    "import sympy as sp\n",
    "EXTRAS = []\n",
    "APLs2 = []\n",
    "ns2 = []\n",
    "dens2 = []\n",
    "cls2 = []\n",
    "ESGPrimes = nx.DiGraph()\n",
    "for n in range (5, 667):\n",
    "    if sp.isprime(n):\n",
    "        print(n)\n",
    "        egyptian_fractions(Fraction(4, n))\n",
    "        for z in EXTRAS:\n",
    "            ESGPrimes.add_edge(n, z.denominator)\n",
    "    EXTRAS = []\n",
    "    APLs2.append(nx.average_shortest_path_length(ESGPrimes))\n",
    "    ns2.append(ESGPrimes.number_of_nodes())\n",
    "    dens2.append(n)\n",
    "    cls2.append(nx.average_clustering(ESGPrimes))\n",
    "\n",
    "nx.draw(ESGPrimes, node_size=5"
   ]
  },
  {
   "cell_type": "code",
   "execution_count": null,
   "metadata": {},
   "outputs": [],
   "source": [
    "# Based on https://stackoverflow.com/questions/6800193/what-is-the-most-efficient-way-of-finding-all-the-factors-of-a-number-in-python\n",
    "# To find number of factors \n",
    "from functools import reduce\n",
    "\n",
    "def factors(n):    \n",
    "    return set(reduce(list.__add__, \n",
    "                ([i, n//i] for i in range(1, int(n**0.5) + 1) if n % i == 0)))"
   ]
  },
  {
   "cell_type": "code",
   "execution_count": null,
   "metadata": {},
   "outputs": [],
   "source": [
    "# For the out-degree, in-degree plots with factors, and for the primes (uncomment prime check for that)\n",
    "import sympy as sp\n",
    "factorsList = []\n",
    "\n",
    "outDegs = []\n",
    "inDegs = []\n",
    "\n",
    "dens3 = []\n",
    "\n",
    "for i in range(4, 1000):\n",
    "#if sp.isprime(i):\n",
    "    factorsList.append(len(factors(i)))\n",
    "    outDegs.append(ESG.out_degree(i))\n",
    "    inDegs.append(ESG.in_degree(i))\n",
    "    dens3.append(i)"
   ]
  },
  {
   "cell_type": "code",
   "execution_count": null,
   "metadata": {},
   "outputs": [],
   "source": [
    "# Can plot any combination of the above arrays\n",
    "\n",
    "plt.xlabel(\"Number of Factors\")\n",
    "plt.ylabel(\"In Degrees\")\n",
    "plt.plot(factorsList, inDegs, \".\")\n",
    "\n",
    "#check = dict(zip(dens3, factorsList))\n",
    "\n",
    "\n",
    "#print(check)"
   ]
  },
  {
   "cell_type": "code",
   "execution_count": null,
   "metadata": {},
   "outputs": [],
   "source": [
    "# Get the largest SCC sub-graph\n",
    "\n",
    "ESGL = max(nx.strongly_connected_component_subgraphs(ESGT), key=len)"
   ]
  },
  {
   "cell_type": "code",
   "execution_count": null,
   "metadata": {},
   "outputs": [],
   "source": [
    "print(nx.triadic_census(ESGL)) # Triadic Census"
   ]
  },
  {
   "cell_type": "code",
   "execution_count": null,
   "metadata": {},
   "outputs": [],
   "source": [
    "# Based on https://stackoverflow.com/questions/55339231/get-the-list-of-triad-nodes-who-fall-under-the-category-of-individual-triadic\n",
    "''' Use triad_nodes['030C'] to get directed triangles - the code might need to be interrupted and then the array \n",
    "sampled as the number of these triangles is massive '''\n",
    "\n",
    "import networkx as nx\n",
    "import itertools\n",
    "\n",
    "\n",
    "def _tricode(G, v, u, w):\n",
    "    \"\"\"Returns the integer code of the given triad.\n",
    "\n",
    "    This is some fancy magic that comes from Batagelj and Mrvar's paper. It\n",
    "    treats each edge joining a pair of `v`, `u`, and `w` as a bit in\n",
    "    the binary representation of an integer.\n",
    "\n",
    "    \"\"\"\n",
    "    combos = ((v, u, 1), (u, v, 2), (v, w, 4), (w, v, 8), (u, w, 16),\n",
    "              (w, u, 32))\n",
    "    return sum(x for u, v, x in combos if v in G[u])\n",
    "\n",
    "\n",
    "G = nx.DiGraph()\n",
    "G.add_nodes_from([1, 2, 3, 4, 5])\n",
    "G.add_edges_from([(1, 2), (2, 3), (2, 4), (4, 5)])\n",
    "\n",
    "#: The integer codes representing each type of triad.\n",
    "#: Triads that are the same up to symmetry have the same code.\n",
    "TRICODES = (1, 2, 2, 3, 2, 4, 6, 8, 2, 6, 5, 7, 3, 8, 7, 11, 2, 6, 4, 8, 5, 9,\n",
    "            9, 13, 6, 10, 9, 14, 7, 14, 12, 15, 2, 5, 6, 7, 6, 9, 10, 14, 4, 9,\n",
    "            9, 12, 8, 13, 14, 15, 3, 7, 8, 11, 7, 12, 14, 15, 8, 14, 13, 15,\n",
    "            11, 15, 15, 16)\n",
    "\n",
    "#: The names of each type of triad. The order of the elements is\n",
    "#: important: it corresponds to the tricodes given in :data:`TRICODES`.\n",
    "TRIAD_NAMES = ('003', '012', '102', '021D', '021U', '021C', '111D', '111U',\n",
    "               '030T', '030C', '201', '120D', '120U', '120C', '210', '300')\n",
    "\n",
    "#: A dictionary mapping triad code to triad name.\n",
    "TRICODE_TO_NAME = {i: TRIAD_NAMES[code - 1] for i, code in enumerate(TRICODES)}\n",
    "\n",
    "triad_nodes = {name: set([]) for name in TRIAD_NAMES}\n",
    "m = {v: i for i, v in enumerate(G)}\n",
    "for v in G:\n",
    "    vnbrs = set(G.pred[v]) | set(G.succ[v])\n",
    "    for u in vnbrs:\n",
    "        if m[u] > m[v]:\n",
    "            unbrs = set(G.pred[u]) | set(G.succ[u])\n",
    "            neighbors = (vnbrs | unbrs) - {u, v}\n",
    "            not_neighbors = set(G.nodes()) - neighbors - {u, v}\n",
    "            # Find dyadic triads\n",
    "            for w in not_neighbors:\n",
    "                if v in G[u] and u in G[v]:\n",
    "                    triad_nodes['102'].add(tuple(sorted([u, v, w])))\n",
    "                else:\n",
    "                    triad_nodes['012'].add(tuple(sorted([u, v, w])))\n",
    "            for w in neighbors:\n",
    "                if m[u] < m[w] or (m[v] < m[w] < m[u] and\n",
    "                                   v not in G.pred[w] and\n",
    "                                   v not in G.succ[w]):\n",
    "                    code = _tricode(G, v, u, w)\n",
    "                    triad_nodes[TRICODE_TO_NAME[code]].add(\n",
    "                        tuple(sorted([u, v, w])))"
   ]
  },
  {
   "cell_type": "code",
   "execution_count": null,
   "metadata": {},
   "outputs": [],
   "source": [
    "#Checking if there exists any triad with all three primes (sample multiple times)\n",
    "for i in range (1, 10000):\n",
    "    x = triad_nodes['030C'].pop()\n",
    "    if sp.isprime(x[0]) and sp.isprime(x[1]) and  sp.isprime(x[2]):\n",
    "        print(x)"
   ]
  },
  {
   "cell_type": "code",
   "execution_count": null,
   "metadata": {},
   "outputs": [],
   "source": [
    "# The prime-count function based clustering coefficient estimate\n",
    "import sympy as sp\n",
    "\n",
    "ice = []\n",
    "pis = []\n",
    "\n",
    "for i in range(1, 1000):\n",
    "    pis.append((2*sp.primepi(i)/i))\n",
    "    ice.append(i)"
   ]
  },
  {
   "cell_type": "code",
   "execution_count": null,
   "metadata": {},
   "outputs": [],
   "source": [
    "# Plotting the estimate \n",
    "\n",
    "from sympy.abc import pi\n",
    "plt.xlabel(\"Number of Nodes\")\n",
    "plt.ylabel(\"(2\" + sp.pretty(pi) + \"(n) / n) Estimate\")\n",
    "plt.plot(ice, pis)"
   ]
  },
  {
   "cell_type": "code",
   "execution_count": null,
   "metadata": {},
   "outputs": [],
   "source": [
    "# Clustering trends for largest SCC are monitored (other arrays + metrics can easily be added as was done for the full-network code)\n",
    "EXTRAS = []\n",
    "cls = []\n",
    "nums = []\n",
    "ESGR = nx.DiGraph()\n",
    "for n in range (4, 1000):\n",
    "    print(n)\n",
    "    egyptian_fractions(Fraction(4, n))\n",
    "    for z in EXTRAS:\n",
    "        ESGR.add_edge(n, z.denominator)\n",
    "    ESGRL = max(nx.strongly_connected_component_subgraphs(ESGR), key=len)\n",
    "    cls.append(nx.average_clustering(ESGRL))\n",
    "    nums.append(ESGRL.number_of_nodes())\n",
    "    EXTRAS = []"
   ]
  }
 ],
 "metadata": {
  "kernelspec": {
   "display_name": "Python 3",
   "language": "python",
   "name": "python3"
  },
  "language_info": {
   "codemirror_mode": {
    "name": "ipython",
    "version": 3
   },
   "file_extension": ".py",
   "mimetype": "text/x-python",
   "name": "python",
   "nbconvert_exporter": "python",
   "pygments_lexer": "ipython3",
   "version": "3.7.3"
  }
 },
 "nbformat": 4,
 "nbformat_minor": 2
}
